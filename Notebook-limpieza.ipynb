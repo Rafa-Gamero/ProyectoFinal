{
 "cells": [
  {
   "cell_type": "markdown",
   "metadata": {},
   "source": [
    "Carga de archivos y limpieza de datos "
   ]
  },
  {
   "cell_type": "code",
   "execution_count": 1,
   "metadata": {},
   "outputs": [
    {
     "name": "stdout",
     "output_type": "stream",
     "text": [
      "Archivo game_play_by_play_E2023.csv cargado correctamente.\n",
      "Archivo game_pregame_teams_comparison_E2023.csv cargado correctamente.\n",
      "Archivo game_report_E2023.csv cargado correctamente.\n",
      "Archivo game_stats_E2023.csv cargado correctamente.\n",
      "Archivo player_boxscore_stats_E2023.csv cargado correctamente.\n",
      "Archivo player_stats_advanced_accumulated_E2023.csv cargado correctamente.\n",
      "Archivo standings_E2023_28.csv cargado correctamente.\n",
      "Archivo team_boxscore_stats_E2023.csv cargado correctamente.\n",
      "Archivo team_stats_advanced_per_game_E2023.csv cargado correctamente.\n"
     ]
    }
   ],
   "source": [
    "from Funciones import cargar_archivos"
   ]
  },
  {
   "cell_type": "code",
   "execution_count": 2,
   "metadata": {},
   "outputs": [],
   "source": [
    "import pandas as pd\n",
    "import os\n",
    "# Carga de archivos de datos\n",
    "game_play_by_play_E2023 = pd.read_csv(os.path.join('data', 'game_play_by_play_E2023.csv'), delimiter=',')\n",
    "game_pregame_teams_comparison_E2023 = pd.read_csv(os.path.join('data', 'game_pregame_teams_comparison_E2023.csv'), delimiter=',')\n",
    "game_report_E2023 = pd.read_csv(os.path.join('data', 'game_report_E2023.csv'), delimiter=',')\n",
    "game_stats_E2023 = pd.read_csv(os.path.join('data', 'game_stats_E2023.csv'), delimiter=',')\n",
    "player_boxscore_stats_E2023 = pd.read_csv(os.path.join('data', 'player_boxscore_stats_E2023.csv'), delimiter=',')\n",
    "player_stats_advanced_accumulated_E2023 = pd.read_csv(os.path.join('data', 'player_stats_advanced_accumulated_E2023.csv'), delimiter=',')\n",
    "standings_E2023_28 = pd.read_csv(os.path.join('data', 'standings_E2023_28.csv'), delimiter=',')\n",
    "team_boxscore_stats_E2023 = pd.read_csv(os.path.join('data', 'team_boxscore_stats_E2023.csv'), delimiter=',')\n",
    "team_stats_advanced_per_game_E2023 = pd.read_csv(os.path.join('data', 'team_stats_advanced_per_game_E2023.csv'), delimiter=',')"
   ]
  },
  {
   "cell_type": "code",
   "execution_count": 3,
   "metadata": {},
   "outputs": [
    {
     "name": "stdout",
     "output_type": "stream",
     "text": [
      "float64\n",
      "int32\n",
      "   DORSAL\n",
      "0       0\n",
      "1       0\n",
      "2       7\n",
      "3      15\n",
      "4       7\n"
     ]
    }
   ],
   "source": [
    "#convertir dorsales a numeros enteros \n",
    "print(game_play_by_play_E2023['DORSAL'].dtype)\n",
    "\n",
    "game_play_by_play_E2023['DORSAL'] = pd.to_numeric(game_play_by_play_E2023['DORSAL'], errors='coerce').fillna(0).astype(int)\n",
    "\n",
    "print(game_play_by_play_E2023['DORSAL'].dtype)\n",
    "print(game_play_by_play_E2023[['DORSAL']].head())"
   ]
  }
 ],
 "metadata": {
  "kernelspec": {
   "display_name": "base",
   "language": "python",
   "name": "python3"
  },
  "language_info": {
   "codemirror_mode": {
    "name": "ipython",
    "version": 3
   },
   "file_extension": ".py",
   "mimetype": "text/x-python",
   "name": "python",
   "nbconvert_exporter": "python",
   "pygments_lexer": "ipython3",
   "version": "3.12.4"
  }
 },
 "nbformat": 4,
 "nbformat_minor": 2
}
