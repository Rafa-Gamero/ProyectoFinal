{
 "cells": [
  {
   "cell_type": "markdown",
   "metadata": {},
   "source": [
    "A notebook that extracts the stats for a particula season (2023)"
   ]
  },
  {
   "cell_type": "code",
   "execution_count": 1,
   "metadata": {},
   "outputs": [],
   "source": [
    "# import sys\n",
    "# sys.path.append('../')\n",
    "# from src.euroleague_api.boxscore_data import BoxScoreData\n",
    "# from src.euroleague_api.game_stats import GameStats\n",
    "# from src.euroleague_api.play_by_play_data import PlayByPlay\n",
    "# from src.euroleague_api.player_stats import PlayerStats\n",
    "# from src.euroleague_api.shot_data import ShotData\n",
    "# from src.euroleague_api.standings import Standings\n",
    "# from src.euroleague_api.team_stats import TeamStats\n",
    "\n",
    "from euroleague_api.boxscore_data import BoxScoreData\n",
    "from euroleague_api.game_stats import GameStats\n",
    "from euroleague_api.play_by_play_data import PlayByPlay\n",
    "from euroleague_api.player_stats import PlayerStats\n",
    "from euroleague_api.shot_data import ShotData\n",
    "from euroleague_api.standings import Standings\n",
    "from euroleague_api.team_stats import TeamStats"
   ]
  },
  {
   "cell_type": "code",
   "execution_count": 2,
   "metadata": {},
   "outputs": [],
   "source": [
    "season = 2023\n",
    "roundid = 28\n",
    "competition_code = \"E\""
   ]
  },
  {
   "cell_type": "code",
   "execution_count": 3,
   "metadata": {},
   "outputs": [
    {
     "name": "stderr",
     "output_type": "stream",
     "text": [
      "c:\\Users\\Casa\\anaconda3\\Lib\\site-packages\\euroleague_api\\EuroLeagueData.py:96: FutureWarning: Downcasting behavior in `replace` is deprecated and will be removed in a future version. To retain the old behavior, explicitly call `result.infer_objects(copy=False)`. To opt-in to the future behavior, set `pd.set_option('future.no_silent_downcasting', True)`\n",
      "  df[\"played\"] = df[\"played\"].replace({\"true\": True, \"false\": False})\n"
     ]
    },
    {
     "data": {
      "application/vnd.jupyter.widget-view+json": {
       "model_id": "2ba55e223f7d4b01a728e7cb0de67bec",
       "version_major": 2,
       "version_minor": 0
      },
      "text/plain": [
       "Season 2023:   0%|          | 0/331 [00:00<?, ?it/s]"
      ]
     },
     "metadata": {},
     "output_type": "display_data"
    }
   ],
   "source": [
    "shotdata = ShotData()\n",
    "# df = shotdata.get_game_shot_data(season, roundid)\n",
    "\n",
    "shot_data_df = shotdata.get_game_shot_data_single_season(season)\n",
    "# shot_data_df.to_csv(\n",
    "#     f\"data/shot_data_{competition_code}{season}.csv\", index=False)\n",
    "\n",
    "# df2 = shotdata.get_game_shot_data_multiple_seasons(2022, season)"
   ]
  },
  {
   "cell_type": "code",
   "execution_count": 4,
   "metadata": {},
   "outputs": [
    {
     "name": "stderr",
     "output_type": "stream",
     "text": [
      "c:\\Users\\Casa\\anaconda3\\Lib\\site-packages\\euroleague_api\\EuroLeagueData.py:96: FutureWarning: Downcasting behavior in `replace` is deprecated and will be removed in a future version. To retain the old behavior, explicitly call `result.infer_objects(copy=False)`. To opt-in to the future behavior, set `pd.set_option('future.no_silent_downcasting', True)`\n",
      "  df[\"played\"] = df[\"played\"].replace({\"true\": True, \"false\": False})\n"
     ]
    },
    {
     "data": {
      "application/vnd.jupyter.widget-view+json": {
       "model_id": "0388a88125154c65802bd61a23f50523",
       "version_major": 2,
       "version_minor": 0
      },
      "text/plain": [
       "Season 2023:   0%|          | 0/331 [00:00<?, ?it/s]"
      ]
     },
     "metadata": {},
     "output_type": "display_data"
    },
    {
     "name": "stderr",
     "output_type": "stream",
     "text": [
      "c:\\Users\\Casa\\anaconda3\\Lib\\site-packages\\euroleague_api\\EuroLeagueData.py:96: FutureWarning: Downcasting behavior in `replace` is deprecated and will be removed in a future version. To retain the old behavior, explicitly call `result.infer_objects(copy=False)`. To opt-in to the future behavior, set `pd.set_option('future.no_silent_downcasting', True)`\n",
      "  df[\"played\"] = df[\"played\"].replace({\"true\": True, \"false\": False})\n"
     ]
    },
    {
     "data": {
      "application/vnd.jupyter.widget-view+json": {
       "model_id": "c376b9ec1afa4cadb3e5e29a05f815a7",
       "version_major": 2,
       "version_minor": 0
      },
      "text/plain": [
       "Season 2023:   0%|          | 0/331 [00:00<?, ?it/s]"
      ]
     },
     "metadata": {},
     "output_type": "display_data"
    }
   ],
   "source": [
    "boxscore = BoxScoreData(competition_code)\n",
    "team_bxs_df = boxscore.get_game_boxscore_quarter_data_single_season(season)\n",
    "player_bxs_df = boxscore.get_player_boxscore_stats_single_season(season)"
   ]
  },
  {
   "cell_type": "code",
   "execution_count": 7,
   "metadata": {},
   "outputs": [],
   "source": [
    "player_bxs_df.to_csv(\n",
    "    f\"C:/Users/Casa/Documents/GitHub/ProyectoFinal/data/player_boxscore_stats_{competition_code}{season}.csv\",sep=\",\", index=False)\n",
    "\n",
    "team_bxs_df.to_csv(\n",
    "    f\"C:/Users/Casa/Documents/GitHub/ProyectoFinal/data/team_boxscore_stats_{competition_code}{season}.csv\", sep=\",\",index=False)"
   ]
  },
  {
   "cell_type": "code",
   "execution_count": 8,
   "metadata": {},
   "outputs": [
    {
     "name": "stderr",
     "output_type": "stream",
     "text": [
      "c:\\Users\\Casa\\anaconda3\\Lib\\site-packages\\euroleague_api\\EuroLeagueData.py:96: FutureWarning: Downcasting behavior in `replace` is deprecated and will be removed in a future version. To retain the old behavior, explicitly call `result.infer_objects(copy=False)`. To opt-in to the future behavior, set `pd.set_option('future.no_silent_downcasting', True)`\n",
      "  df[\"played\"] = df[\"played\"].replace({\"true\": True, \"false\": False})\n"
     ]
    },
    {
     "data": {
      "application/vnd.jupyter.widget-view+json": {
       "model_id": "e7e7978fb8104d62b6195d2cb0c25921",
       "version_major": 2,
       "version_minor": 0
      },
      "text/plain": [
       "Season 2023:   0%|          | 0/331 [00:00<?, ?it/s]"
      ]
     },
     "metadata": {},
     "output_type": "display_data"
    },
    {
     "name": "stderr",
     "output_type": "stream",
     "text": [
      "c:\\Users\\Casa\\anaconda3\\Lib\\site-packages\\euroleague_api\\EuroLeagueData.py:96: FutureWarning: Downcasting behavior in `replace` is deprecated and will be removed in a future version. To retain the old behavior, explicitly call `result.infer_objects(copy=False)`. To opt-in to the future behavior, set `pd.set_option('future.no_silent_downcasting', True)`\n",
      "  df[\"played\"] = df[\"played\"].replace({\"true\": True, \"false\": False})\n"
     ]
    },
    {
     "data": {
      "application/vnd.jupyter.widget-view+json": {
       "model_id": "a9dcd4408ac64c3c8d8bbb7a2113bd8e",
       "version_major": 2,
       "version_minor": 0
      },
      "text/plain": [
       "Season 2023:   0%|          | 0/331 [00:00<?, ?it/s]"
      ]
     },
     "metadata": {},
     "output_type": "display_data"
    },
    {
     "name": "stderr",
     "output_type": "stream",
     "text": [
      "c:\\Users\\Casa\\anaconda3\\Lib\\site-packages\\euroleague_api\\EuroLeagueData.py:96: FutureWarning: Downcasting behavior in `replace` is deprecated and will be removed in a future version. To retain the old behavior, explicitly call `result.infer_objects(copy=False)`. To opt-in to the future behavior, set `pd.set_option('future.no_silent_downcasting', True)`\n",
      "  df[\"played\"] = df[\"played\"].replace({\"true\": True, \"false\": False})\n"
     ]
    },
    {
     "data": {
      "application/vnd.jupyter.widget-view+json": {
       "model_id": "513f91176b4b4b1d8235e2cb1f58a106",
       "version_major": 2,
       "version_minor": 0
      },
      "text/plain": [
       "Season 2023:   0%|          | 0/331 [00:00<?, ?it/s]"
      ]
     },
     "metadata": {},
     "output_type": "display_data"
    },
    {
     "name": "stderr",
     "output_type": "stream",
     "text": [
      "WARNING:euroleague_api.EuroLeagueData:HTTPError: Didn't find gamecode 1 for season 2023. Invalid 404 Client Error: Not Found for url: https://api-live.euroleague.net/v3/competitions/E/seasons/E2023/games/1/teamsComparison. Skip and continue.\n",
      "WARNING:euroleague_api.EuroLeagueData:HTTPError: Didn't find gamecode 2 for season 2023. Invalid 404 Client Error: Not Found for url: https://api-live.euroleague.net/v3/competitions/E/seasons/E2023/games/2/teamsComparison. Skip and continue.\n",
      "WARNING:euroleague_api.EuroLeagueData:HTTPError: Didn't find gamecode 3 for season 2023. Invalid 404 Client Error: Not Found for url: https://api-live.euroleague.net/v3/competitions/E/seasons/E2023/games/3/teamsComparison. Skip and continue.\n",
      "WARNING:euroleague_api.EuroLeagueData:HTTPError: Didn't find gamecode 4 for season 2023. Invalid 404 Client Error: Not Found for url: https://api-live.euroleague.net/v3/competitions/E/seasons/E2023/games/4/teamsComparison. Skip and continue.\n",
      "WARNING:euroleague_api.EuroLeagueData:HTTPError: Didn't find gamecode 5 for season 2023. Invalid 404 Client Error: Not Found for url: https://api-live.euroleague.net/v3/competitions/E/seasons/E2023/games/5/teamsComparison. Skip and continue.\n",
      "WARNING:euroleague_api.EuroLeagueData:HTTPError: Didn't find gamecode 6 for season 2023. Invalid 404 Client Error: Not Found for url: https://api-live.euroleague.net/v3/competitions/E/seasons/E2023/games/6/teamsComparison. Skip and continue.\n",
      "WARNING:euroleague_api.EuroLeagueData:HTTPError: Didn't find gamecode 7 for season 2023. Invalid 404 Client Error: Not Found for url: https://api-live.euroleague.net/v3/competitions/E/seasons/E2023/games/7/teamsComparison. Skip and continue.\n",
      "WARNING:euroleague_api.EuroLeagueData:HTTPError: Didn't find gamecode 8 for season 2023. Invalid 404 Client Error: Not Found for url: https://api-live.euroleague.net/v3/competitions/E/seasons/E2023/games/8/teamsComparison. Skip and continue.\n",
      "WARNING:euroleague_api.EuroLeagueData:HTTPError: Didn't find gamecode 9 for season 2023. Invalid 404 Client Error: Not Found for url: https://api-live.euroleague.net/v3/competitions/E/seasons/E2023/games/9/teamsComparison. Skip and continue.\n"
     ]
    }
   ],
   "source": [
    "gamestats = GameStats(competition_code)\n",
    "game_reports_df = gamestats.get_game_reports_single_season(season)\n",
    "game_stats_df = gamestats.get_game_stats_single_season(season)\n",
    "game_comparison_stats_df = gamestats.get_game_teams_comparison_single_season(season)\n",
    "\n",
    "game_reports_df.to_csv(\n",
    "    f\"C:/Users/Casa/Documents/GitHub/ProyectoFinal/data/game_report_{competition_code}{season}.csv\", index=False)\n",
    "game_stats_df.to_csv(\n",
    "    f\"C:/Users/Casa/Documents/GitHub/ProyectoFinal/data/game_stats_{competition_code}{season}.csv\", index=False)\n",
    "game_comparison_stats_df.to_csv(\n",
    "    f\"C:/Users/Casa/Documents/GitHub/ProyectoFinal/data/game_pregame_teams_comparison_{competition_code}{season}.csv\", index=False)"
   ]
  },
  {
   "cell_type": "code",
   "execution_count": 9,
   "metadata": {},
   "outputs": [],
   "source": [
    "standings = Standings(competition_code)\n",
    "standings_df = standings.get_standings(season=season, round_number=5)\n",
    "standings_df.to_csv(\n",
    "    f\"C:/Users/Casa/Documents/GitHub/ProyectoFinal/data/standings_{competition_code}{season}_{roundid}.csv\", index=False)"
   ]
  },
  {
   "cell_type": "code",
   "execution_count": 10,
   "metadata": {},
   "outputs": [
    {
     "name": "stderr",
     "output_type": "stream",
     "text": [
      "c:\\Users\\Casa\\anaconda3\\Lib\\site-packages\\euroleague_api\\EuroLeagueData.py:96: FutureWarning: Downcasting behavior in `replace` is deprecated and will be removed in a future version. To retain the old behavior, explicitly call `result.infer_objects(copy=False)`. To opt-in to the future behavior, set `pd.set_option('future.no_silent_downcasting', True)`\n",
      "  df[\"played\"] = df[\"played\"].replace({\"true\": True, \"false\": False})\n"
     ]
    },
    {
     "data": {
      "application/vnd.jupyter.widget-view+json": {
       "model_id": "c9b7ec63bac2424483b85a74b5a34a8f",
       "version_major": 2,
       "version_minor": 0
      },
      "text/plain": [
       "Season 2023:   0%|          | 0/331 [00:00<?, ?it/s]"
      ]
     },
     "metadata": {},
     "output_type": "display_data"
    }
   ],
   "source": [
    "playbyplay = PlayByPlay(competition_code)\n",
    "pbp_df = playbyplay.get_game_play_by_play_data_single_season(season)\n",
    "pbp_df.to_csv(\n",
    "    f\"C:/Users/Casa/Documents/GitHub/ProyectoFinal/data/game_play_by_play_{competition_code}{season}.csv\", index=False)"
   ]
  },
  {
   "cell_type": "code",
   "execution_count": 11,
   "metadata": {},
   "outputs": [],
   "source": [
    "teamstats = TeamStats(competition_code)\n",
    "team_stats_df = teamstats.get_team_stats_single_season(\n",
    "    endpoint=\"advanced\", season=season, phase_type_code=None, statistic_mode=\"PerGame\")\n",
    "\n",
    "team_stats_df.to_csv(\n",
    "    f\"C:/Users/Casa/Documents/GitHub/ProyectoFinal/data/team_stats_advanced_per_game_{competition_code}{season}.csv\", index=False)"
   ]
  },
  {
   "cell_type": "code",
   "execution_count": 12,
   "metadata": {},
   "outputs": [],
   "source": [
    "playerstats = PlayerStats(competition_code)\n",
    "\n",
    "player_stats_df = playerstats.get_player_stats_single_season(\n",
    "\n",
    "    endpoint=\"advanced\", season=season, phase_type_code=None, statistic_mode=\"Accumulated\")\n",
    "\n",
    "player_stats_df.to_csv(\n",
    "    f\"C:/Users/Casa/Documents/GitHub/ProyectoFinal/data/player_stats_advanced_accumulated_{competition_code}{season}.csv\", index=False)"
   ]
  }
 ],
 "metadata": {
  "kernelspec": {
   "display_name": "euroleague-api",
   "language": "python",
   "name": "python3"
  },
  "language_info": {
   "codemirror_mode": {
    "name": "ipython",
    "version": 3
   },
   "file_extension": ".py",
   "mimetype": "text/x-python",
   "name": "python",
   "nbconvert_exporter": "python",
   "pygments_lexer": "ipython3",
   "version": "3.12.4"
  }
 },
 "nbformat": 4,
 "nbformat_minor": 2
}
