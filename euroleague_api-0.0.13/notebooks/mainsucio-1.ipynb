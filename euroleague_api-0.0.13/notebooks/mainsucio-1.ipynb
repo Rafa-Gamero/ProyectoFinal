{
 "cells": [
  {
   "cell_type": "code",
   "execution_count": 3,
   "metadata": {},
   "outputs": [
    {
     "name": "stdout",
     "output_type": "stream",
     "text": [
      "Requirement already satisfied: euroleague-api in c:\\users\\casa\\anaconda3\\lib\\site-packages (0.0.13)\n",
      "Requirement already satisfied: requests in c:\\users\\casa\\anaconda3\\lib\\site-packages (from euroleague-api) (2.32.2)\n",
      "Requirement already satisfied: pandas in c:\\users\\casa\\anaconda3\\lib\\site-packages (from euroleague-api) (2.2.2)\n",
      "Requirement already satisfied: numpy in c:\\users\\casa\\anaconda3\\lib\\site-packages (from euroleague-api) (1.26.4)\n",
      "Requirement already satisfied: xmltodict in c:\\users\\casa\\anaconda3\\lib\\site-packages (from euroleague-api) (0.13.0)\n",
      "Requirement already satisfied: tqdm in c:\\users\\casa\\anaconda3\\lib\\site-packages (from euroleague-api) (4.66.4)\n",
      "Requirement already satisfied: python-dateutil>=2.8.2 in c:\\users\\casa\\appdata\\roaming\\python\\python312\\site-packages (from pandas->euroleague-api) (2.9.0.post0)\n",
      "Requirement already satisfied: pytz>=2020.1 in c:\\users\\casa\\anaconda3\\lib\\site-packages (from pandas->euroleague-api) (2024.1)\n",
      "Requirement already satisfied: tzdata>=2022.7 in c:\\users\\casa\\anaconda3\\lib\\site-packages (from pandas->euroleague-api) (2023.3)\n",
      "Requirement already satisfied: charset-normalizer<4,>=2 in c:\\users\\casa\\anaconda3\\lib\\site-packages (from requests->euroleague-api) (2.0.4)\n",
      "Requirement already satisfied: idna<4,>=2.5 in c:\\users\\casa\\anaconda3\\lib\\site-packages (from requests->euroleague-api) (3.7)\n",
      "Requirement already satisfied: urllib3<3,>=1.21.1 in c:\\users\\casa\\anaconda3\\lib\\site-packages (from requests->euroleague-api) (2.2.2)\n",
      "Requirement already satisfied: certifi>=2017.4.17 in c:\\users\\casa\\anaconda3\\lib\\site-packages (from requests->euroleague-api) (2024.7.4)\n",
      "Requirement already satisfied: colorama in c:\\users\\casa\\anaconda3\\lib\\site-packages (from tqdm->euroleague-api) (0.4.6)\n",
      "Requirement already satisfied: six>=1.5 in c:\\users\\casa\\appdata\\roaming\\python\\python312\\site-packages (from python-dateutil>=2.8.2->pandas->euroleague-api) (1.16.0)\n",
      "Note: you may need to restart the kernel to use updated packages.\n"
     ]
    }
   ],
   "source": [
    "pip install euroleague-api"
   ]
  },
  {
   "cell_type": "code",
   "execution_count": 11,
   "metadata": {},
   "outputs": [],
   "source": [
    "from euroleague_api.shot_data import ShotData\n",
    "\n",
    "season = 2023\n",
    "game_code = 1\n",
    "competition_code = \"E\"\n",
    "\n",
    "shotdata = ShotData(competition_code)\n",
    "df = shotdata.get_game_shot_data(season, game_code)\n",
    "\n",
    "df.head()\n",
    "\n",
    "# Guardar el DataFrame en un archivo CSV\n",
    "df.to_csv('game_shot_data.csv', sep=',', index=False)\n",
    "\n",
    "    \n"
   ]
  },
  {
   "cell_type": "code",
   "execution_count": 16,
   "metadata": {},
   "outputs": [
    {
     "ename": "ValueError",
     "evalue": "Statistic type, 2022, is not applicable. Available values: ['traditional', 'advanced', 'opponentsTraditional', 'opponentsAdvanced']",
     "output_type": "error",
     "traceback": [
      "\u001b[1;31m---------------------------------------------------------------------------\u001b[0m",
      "\u001b[1;31mValueError\u001b[0m                                Traceback (most recent call last)",
      "Cell \u001b[1;32mIn[16], line 7\u001b[0m\n\u001b[0;32m      4\u001b[0m competition_code \u001b[38;5;241m=\u001b[39m \u001b[38;5;124m\"\u001b[39m\u001b[38;5;124mE\u001b[39m\u001b[38;5;124m\"\u001b[39m\n\u001b[0;32m      6\u001b[0m teamstats \u001b[38;5;241m=\u001b[39m TeamStats(competition_code)\n\u001b[1;32m----> 7\u001b[0m df \u001b[38;5;241m=\u001b[39m \u001b[43mteamstats\u001b[49m\u001b[38;5;241;43m.\u001b[39;49m\u001b[43mget_team_stats\u001b[49m\u001b[43m(\u001b[49m\u001b[43mseason\u001b[49m\u001b[43m,\u001b[49m\u001b[43m \u001b[49m\u001b[43mgame_code\u001b[49m\u001b[43m)\u001b[49m\n\u001b[0;32m      9\u001b[0m df\u001b[38;5;241m.\u001b[39mto_csv(\u001b[38;5;124m'\u001b[39m\u001b[38;5;124mteam_stats_data.csv\u001b[39m\u001b[38;5;124m'\u001b[39m, sep\u001b[38;5;241m=\u001b[39m\u001b[38;5;124m'\u001b[39m\u001b[38;5;124m,\u001b[39m\u001b[38;5;124m'\u001b[39m, index\u001b[38;5;241m=\u001b[39m\u001b[38;5;28;01mFalse\u001b[39;00m)\n",
      "File \u001b[1;32mc:\\Users\\Casa\\anaconda3\\Lib\\site-packages\\euroleague_api\\team_stats.py:82\u001b[0m, in \u001b[0;36mTeamStats.get_team_stats\u001b[1;34m(self, endpoint, params, phase_type_code, statistic_mode)\u001b[0m\n\u001b[0;32m     79\u001b[0m available_phase_type_code \u001b[38;5;241m=\u001b[39m [\u001b[38;5;124m\"\u001b[39m\u001b[38;5;124mRS\u001b[39m\u001b[38;5;124m\"\u001b[39m, \u001b[38;5;124m\"\u001b[39m\u001b[38;5;124mPO\u001b[39m\u001b[38;5;124m\"\u001b[39m, \u001b[38;5;124m\"\u001b[39m\u001b[38;5;124mFF\u001b[39m\u001b[38;5;124m\"\u001b[39m]\n\u001b[0;32m     80\u001b[0m available_stat_mode \u001b[38;5;241m=\u001b[39m [\u001b[38;5;124m\"\u001b[39m\u001b[38;5;124mPerGame\u001b[39m\u001b[38;5;124m\"\u001b[39m, \u001b[38;5;124m\"\u001b[39m\u001b[38;5;124mAccumulated\u001b[39m\u001b[38;5;124m\"\u001b[39m]\n\u001b[1;32m---> 82\u001b[0m \u001b[43mraise_error\u001b[49m\u001b[43m(\u001b[49m\n\u001b[0;32m     83\u001b[0m \u001b[43m    \u001b[49m\u001b[43mendpoint\u001b[49m\u001b[43m,\u001b[49m\u001b[43m \u001b[49m\u001b[38;5;124;43m\"\u001b[39;49m\u001b[38;5;124;43mStatistic type\u001b[39;49m\u001b[38;5;124;43m\"\u001b[39;49m\u001b[43m,\u001b[49m\u001b[43m \u001b[49m\u001b[43mavailable_endpoints\u001b[49m\u001b[43m,\u001b[49m\u001b[43m \u001b[49m\u001b[38;5;28;43;01mFalse\u001b[39;49;00m\u001b[43m)\u001b[49m\n\u001b[0;32m     84\u001b[0m raise_error(\n\u001b[0;32m     85\u001b[0m     statistic_mode, \u001b[38;5;124m\"\u001b[39m\u001b[38;5;124mStatistic Aggregation\u001b[39m\u001b[38;5;124m\"\u001b[39m, available_stat_mode,\n\u001b[0;32m     86\u001b[0m     \u001b[38;5;28;01mFalse\u001b[39;00m)\n\u001b[0;32m     87\u001b[0m raise_error(\n\u001b[0;32m     88\u001b[0m     phase_type_code, \u001b[38;5;124m\"\u001b[39m\u001b[38;5;124mPhase type code\u001b[39m\u001b[38;5;124m\"\u001b[39m, available_phase_type_code,\n\u001b[0;32m     89\u001b[0m     \u001b[38;5;28;01mTrue\u001b[39;00m)\n",
      "File \u001b[1;32mc:\\Users\\Casa\\anaconda3\\Lib\\site-packages\\euroleague_api\\utils.py:68\u001b[0m, in \u001b[0;36mraise_error\u001b[1;34m(var, descripitve_var, available_vals, allow_none)\u001b[0m\n\u001b[0;32m     65\u001b[0m     available_vals\u001b[38;5;241m.\u001b[39mappend(\u001b[38;5;28;01mNone\u001b[39;00m)\n\u001b[0;32m     67\u001b[0m \u001b[38;5;28;01mif\u001b[39;00m var \u001b[38;5;129;01mnot\u001b[39;00m \u001b[38;5;129;01min\u001b[39;00m available_vals:\n\u001b[1;32m---> 68\u001b[0m     \u001b[38;5;28;01mraise\u001b[39;00m \u001b[38;5;167;01mValueError\u001b[39;00m(\n\u001b[0;32m     69\u001b[0m         \u001b[38;5;124mf\u001b[39m\u001b[38;5;124m\"\u001b[39m\u001b[38;5;132;01m{\u001b[39;00mdescripitve_var\u001b[38;5;132;01m}\u001b[39;00m\u001b[38;5;124m, \u001b[39m\u001b[38;5;132;01m{\u001b[39;00mvar\u001b[38;5;132;01m}\u001b[39;00m\u001b[38;5;124m, is not applicable. \u001b[39m\u001b[38;5;124m\"\u001b[39m\n\u001b[0;32m     70\u001b[0m         \u001b[38;5;124mf\u001b[39m\u001b[38;5;124m\"\u001b[39m\u001b[38;5;124mAvailable values: \u001b[39m\u001b[38;5;132;01m{\u001b[39;00mavailable_vals\u001b[38;5;132;01m}\u001b[39;00m\u001b[38;5;124m\"\u001b[39m\n\u001b[0;32m     71\u001b[0m     )\n\u001b[0;32m     72\u001b[0m \u001b[38;5;28;01mreturn\u001b[39;00m\n",
      "\u001b[1;31mValueError\u001b[0m: Statistic type, 2022, is not applicable. Available values: ['traditional', 'advanced', 'opponentsTraditional', 'opponentsAdvanced']"
     ]
    }
   ],
   "source": [
    "from euroleague_api.team_stats import TeamStats\n",
    "season = 2022\n",
    "game_code = 1\n",
    "competition_code = \"E\"\n",
    "\n",
    "teamstats = TeamStats(competition_code)\n",
    "df = teamstats.get_team_stats(season, game_code)\n",
    "\n",
    "df.to_csv('team_stats_data.csv', sep=',', index=False)\n"
   ]
  }
 ],
 "metadata": {
  "kernelspec": {
   "display_name": "base",
   "language": "python",
   "name": "python3"
  },
  "language_info": {
   "codemirror_mode": {
    "name": "ipython",
    "version": 3
   },
   "file_extension": ".py",
   "mimetype": "text/x-python",
   "name": "python",
   "nbconvert_exporter": "python",
   "pygments_lexer": "ipython3",
   "version": "3.12.4"
  }
 },
 "nbformat": 4,
 "nbformat_minor": 2
}
